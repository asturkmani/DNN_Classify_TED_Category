{
 "cells": [
  {
   "cell_type": "code",
   "execution_count": 112,
   "metadata": {
    "collapsed": false
   },
   "outputs": [
    {
     "data": {
      "text/html": [
       "\n",
       "    <div class=\"bk-root\">\n",
       "        <a href=\"http://bokeh.pydata.org\" target=\"_blank\" class=\"bk-logo bk-logo-small bk-logo-notebook\"></a>\n",
       "        <span id=\"4b79bf22-319e-4b16-be19-8ee4bb100047\">Loading BokehJS ...</span>\n",
       "    </div>"
      ]
     },
     "metadata": {},
     "output_type": "display_data"
    },
    {
     "data": {
      "application/javascript": [
       "\n",
       "(function(global) {\n",
       "  function now() {\n",
       "    return new Date();\n",
       "  }\n",
       "\n",
       "  var force = \"1\";\n",
       "\n",
       "  if (typeof (window._bokeh_onload_callbacks) === \"undefined\" || force !== \"\") {\n",
       "    window._bokeh_onload_callbacks = [];\n",
       "    window._bokeh_is_loading = undefined;\n",
       "  }\n",
       "\n",
       "\n",
       "  \n",
       "  if (typeof (window._bokeh_timeout) === \"undefined\" || force !== \"\") {\n",
       "    window._bokeh_timeout = Date.now() + 5000;\n",
       "    window._bokeh_failed_load = false;\n",
       "  }\n",
       "\n",
       "  var NB_LOAD_WARNING = {'data': {'text/html':\n",
       "     \"<div style='background-color: #fdd'>\\n\"+\n",
       "     \"<p>\\n\"+\n",
       "     \"BokehJS does not appear to have successfully loaded. If loading BokehJS from CDN, this \\n\"+\n",
       "     \"may be due to a slow or bad network connection. Possible fixes:\\n\"+\n",
       "     \"</p>\\n\"+\n",
       "     \"<ul>\\n\"+\n",
       "     \"<li>re-rerun `output_notebook()` to attempt to load from CDN again, or</li>\\n\"+\n",
       "     \"<li>use INLINE resources instead, as so:</li>\\n\"+\n",
       "     \"</ul>\\n\"+\n",
       "     \"<code>\\n\"+\n",
       "     \"from bokeh.resources import INLINE\\n\"+\n",
       "     \"output_notebook(resources=INLINE)\\n\"+\n",
       "     \"</code>\\n\"+\n",
       "     \"</div>\"}};\n",
       "\n",
       "  function display_loaded() {\n",
       "    if (window.Bokeh !== undefined) {\n",
       "      Bokeh.$(\"#4b79bf22-319e-4b16-be19-8ee4bb100047\").text(\"BokehJS successfully loaded.\");\n",
       "    } else if (Date.now() < window._bokeh_timeout) {\n",
       "      setTimeout(display_loaded, 100)\n",
       "    }\n",
       "  }\n",
       "\n",
       "  function run_callbacks() {\n",
       "    window._bokeh_onload_callbacks.forEach(function(callback) { callback() });\n",
       "    delete window._bokeh_onload_callbacks\n",
       "    console.info(\"Bokeh: all callbacks have finished\");\n",
       "  }\n",
       "\n",
       "  function load_libs(js_urls, callback) {\n",
       "    window._bokeh_onload_callbacks.push(callback);\n",
       "    if (window._bokeh_is_loading > 0) {\n",
       "      console.log(\"Bokeh: BokehJS is being loaded, scheduling callback at\", now());\n",
       "      return null;\n",
       "    }\n",
       "    if (js_urls == null || js_urls.length === 0) {\n",
       "      run_callbacks();\n",
       "      return null;\n",
       "    }\n",
       "    console.log(\"Bokeh: BokehJS not loaded, scheduling load and callback at\", now());\n",
       "    window._bokeh_is_loading = js_urls.length;\n",
       "    for (var i = 0; i < js_urls.length; i++) {\n",
       "      var url = js_urls[i];\n",
       "      var s = document.createElement('script');\n",
       "      s.src = url;\n",
       "      s.async = false;\n",
       "      s.onreadystatechange = s.onload = function() {\n",
       "        window._bokeh_is_loading--;\n",
       "        if (window._bokeh_is_loading === 0) {\n",
       "          console.log(\"Bokeh: all BokehJS libraries loaded\");\n",
       "          run_callbacks()\n",
       "        }\n",
       "      };\n",
       "      s.onerror = function() {\n",
       "        console.warn(\"failed to load library \" + url);\n",
       "      };\n",
       "      console.log(\"Bokeh: injecting script tag for BokehJS library: \", url);\n",
       "      document.getElementsByTagName(\"head\")[0].appendChild(s);\n",
       "    }\n",
       "  };var element = document.getElementById(\"4b79bf22-319e-4b16-be19-8ee4bb100047\");\n",
       "  if (element == null) {\n",
       "    console.log(\"Bokeh: ERROR: autoload.js configured with elementid '4b79bf22-319e-4b16-be19-8ee4bb100047' but no matching script tag was found. \")\n",
       "    return false;\n",
       "  }\n",
       "\n",
       "  var js_urls = ['https://cdn.pydata.org/bokeh/release/bokeh-0.12.2.min.js', 'https://cdn.pydata.org/bokeh/release/bokeh-widgets-0.12.2.min.js', 'https://cdn.pydata.org/bokeh/release/bokeh-compiler-0.12.2.min.js'];\n",
       "\n",
       "  var inline_js = [\n",
       "    function(Bokeh) {\n",
       "      Bokeh.set_log_level(\"info\");\n",
       "    },\n",
       "    \n",
       "    function(Bokeh) {\n",
       "      \n",
       "      Bokeh.$(\"#4b79bf22-319e-4b16-be19-8ee4bb100047\").text(\"BokehJS is loading...\");\n",
       "    },\n",
       "    function(Bokeh) {\n",
       "      console.log(\"Bokeh: injecting CSS: https://cdn.pydata.org/bokeh/release/bokeh-0.12.2.min.css\");\n",
       "      Bokeh.embed.inject_css(\"https://cdn.pydata.org/bokeh/release/bokeh-0.12.2.min.css\");\n",
       "      console.log(\"Bokeh: injecting CSS: https://cdn.pydata.org/bokeh/release/bokeh-widgets-0.12.2.min.css\");\n",
       "      Bokeh.embed.inject_css(\"https://cdn.pydata.org/bokeh/release/bokeh-widgets-0.12.2.min.css\");\n",
       "    }\n",
       "  ];\n",
       "\n",
       "  function run_inline_js() {\n",
       "    \n",
       "    if ((window.Bokeh !== undefined) || (force === \"1\")) {\n",
       "      for (var i = 0; i < inline_js.length; i++) {\n",
       "        inline_js[i](window.Bokeh);\n",
       "      }if (force === \"1\") {\n",
       "        display_loaded();\n",
       "      }} else if (Date.now() < window._bokeh_timeout) {\n",
       "      setTimeout(run_inline_js, 100);\n",
       "    } else if (!window._bokeh_failed_load) {\n",
       "      console.log(\"Bokeh: BokehJS failed to load within specified timeout.\");\n",
       "      window._bokeh_failed_load = true;\n",
       "    } else if (!force) {\n",
       "      var cell = $(\"#4b79bf22-319e-4b16-be19-8ee4bb100047\").parents('.cell').data().cell;\n",
       "      cell.output_area.append_execute_result(NB_LOAD_WARNING)\n",
       "    }\n",
       "\n",
       "  }\n",
       "\n",
       "  if (window._bokeh_is_loading === 0) {\n",
       "    console.log(\"Bokeh: BokehJS loaded, going straight to plotting\");\n",
       "    run_inline_js();\n",
       "  } else {\n",
       "    load_libs(js_urls, function() {\n",
       "      console.log(\"Bokeh: BokehJS plotting callback run at\", now());\n",
       "      run_inline_js();\n",
       "    });\n",
       "  }\n",
       "}(this));"
      ]
     },
     "metadata": {},
     "output_type": "display_data"
    }
   ],
   "source": [
    "import numpy as np\n",
    "import os\n",
    "from random import shuffle\n",
    "import re\n",
    "import urllib.request\n",
    "import zipfile\n",
    "import lxml.etree\n",
    "import itertools\n",
    "import matplotlib.pyplot as plt\n",
    "import tensorflow as tf\n",
    "import pickle\n",
    "import time\n",
    "from sklearn.utils import shuffle\n",
    "\n",
    "#plotting\n",
    "from bokeh.models import ColumnDataSource, LabelSet\n",
    "from bokeh.plotting import figure, show, output_file\n",
    "from bokeh.io import output_notebook\n",
    "output_notebook()\n",
    "\n",
    "#nltk\n",
    "import nltk\n",
    "from nltk.corpus import stopwords\n",
    "from nltk.tokenize import wordpunct_tokenize\n",
    "from nltk.tokenize import RegexpTokenizer"
   ]
  },
  {
   "cell_type": "markdown",
   "metadata": {},
   "source": [
    "# Part 0: Download & tokenize the TED Dataset"
   ]
  },
  {
   "cell_type": "markdown",
   "metadata": {},
   "source": [
    "### Download the dataset"
   ]
  },
  {
   "cell_type": "code",
   "execution_count": 144,
   "metadata": {
    "collapsed": true
   },
   "outputs": [],
   "source": [
    "# Download Dataset\n",
    "if not os.path.isfile('ted_en-20160408.zip'):\n",
    "    urllib.request.urlretrieve(\"https://wit3.fbk.eu/get.php?path=XML_releases/xml/ted_en-20160408.zip&filename=ted_en-20160408.zip\", filename=\"ted_en-20160408.zip\")\n",
    "    \n",
    "    \n",
    "# Extract documents   \n",
    "with zipfile.ZipFile('ted_en-20160408.zip', 'r') as z:\n",
    "    doc = lxml.etree.parse(z.open('ted_en-20160408.xml', 'r'))\n",
    "\n",
    "# Build list of english words\n",
    "wordlist = [w for w in nltk.corpus.words.words('en') if w.islower()]"
   ]
  },
  {
   "cell_type": "markdown",
   "metadata": {},
   "source": [
    "### Preprocess and store content & keywords\n",
    "#### Preprocessing steps:\n",
    "\n",
    "1) Create list of words by splitting on real words. This removes punctuations, parenthesis, etc   \n",
    "2) Perform stemming. This converts different variations of the same word into one word. Houses and House become House, for example.   \n",
    "3) Remove stopwords  \n",
    "4) Convert all to lower case.  "
   ]
  },
  {
   "cell_type": "code",
   "execution_count": 146,
   "metadata": {
    "collapsed": false
   },
   "outputs": [],
   "source": [
    "input_list = []\n",
    "keywords_list = []\n",
    "\n",
    "# Define function to process Subtitles\n",
    "def processSubtitles(raw):\n",
    "    porter = nltk.PorterStemmer()\n",
    "    \n",
    "    #tokenize & remove all punctuation\n",
    "    tokenizer = RegexpTokenizer(r'\\w+')\n",
    "    tokens = tokenizer.tokenize(raw)\n",
    "    # word stemming\n",
    "    tokens = [porter.stem(t) for t in tokens]\n",
    "#     remove stopwords and convert to lowercase\n",
    "    tokens = [word.lower() for word in tokens if word not in stopwords.words('english')]\n",
    "    return tokens\n",
    "\n",
    "# Extract content & preprocess\n",
    "for document in doc.findall('//content'):\n",
    "    input_list.append(processSubtitles(document.text))\n",
    "    \n",
    "# Extract keywords & \n",
    "for x in doc.findall('//keywords'):\n",
    "    keywords_list.append(x.text.lower())   "
   ]
  },
  {
   "cell_type": "code",
   "execution_count": 142,
   "metadata": {
    "collapsed": false
   },
   "outputs": [
    {
     "name": "stdout",
     "output_type": "stream",
     "text": [
      "1659\n"
     ]
    }
   ],
   "source": [
    "print(input_list)"
   ]
  },
  {
   "cell_type": "code",
   "execution_count": 147,
   "metadata": {
    "collapsed": true
   },
   "outputs": [],
   "source": [
    "class_list = []\n",
    "label_list = []\n",
    "class_list_onehot = []\n",
    "\n",
    "for keywords in keywords_list:\n",
    "    label = [0,0,0]\n",
    "    labelValue = 0\n",
    "    if \"technology\" in keywords :\n",
    "        label[0] = 1\n",
    "        labelValue += 4\n",
    "    if \"entertainment\" in keywords :\n",
    "        label[1] = 1\n",
    "        labelValue +=2 \n",
    "    if \"design\" in keywords :\n",
    "        label[2] = 1\n",
    "        labelValue += 1\n",
    "    \n",
    "    class_list.append(label)\n",
    "    label_list.append(labelValue)\n",
    "    \n",
    "class_list_onehot = np.eye(8)[label_list]    "
   ]
  },
  {
   "cell_type": "markdown",
   "metadata": {},
   "source": [
    "# Part 1: Download GloVe embeddings"
   ]
  },
  {
   "cell_type": "markdown",
   "metadata": {},
   "source": [
    "### Download & create GloVe dictionary"
   ]
  },
  {
   "cell_type": "code",
   "execution_count": 148,
   "metadata": {
    "collapsed": true
   },
   "outputs": [],
   "source": [
    "# import GloVe Wikipedia 2014 + Gigaword 5 pretrained mapping.\n",
    "with zipfile.ZipFile('glove.6B.zip', 'r') as z:\n",
    "    doc = (z.open('glove.6B.50d.txt', 'r'))\n",
    "    \n",
    "    lines = doc.read().decode('utf-8').splitlines()\n",
    "    \n",
    "del doc"
   ]
  },
  {
   "cell_type": "code",
   "execution_count": 152,
   "metadata": {
    "collapsed": false
   },
   "outputs": [],
   "source": [
    "# create GloVe dictionary\n",
    "glove_dict = {}\n",
    "\n",
    "for e in lines:\n",
    "    line_list = e.split()\n",
    "    # extract values and convert to float\n",
    "    glove_dict[line_list[0]] = list(map(float, line_list[1:]))\n"
   ]
  },
  {
   "cell_type": "markdown",
   "metadata": {},
   "source": [
    "### Create Bag-of-means"
   ]
  },
  {
   "cell_type": "code",
   "execution_count": 150,
   "metadata": {
    "collapsed": true
   },
   "outputs": [],
   "source": [
    "# create Bag-of-means\n",
    "# represent each document by a vector: the mean of the words in that document\n",
    "bag_of_means = []\n",
    "# words not in the dictionary are represented as a vector of zeros\n",
    "null_word = 50*[0]\n",
    "\n",
    "def getGloVe(word):\n",
    "    if word in glove_dict:\n",
    "        return np.reshape(glove_dict[word], 50).reshape(1,-1)\n",
    "    else:\n",
    "        return np.reshape(null_word,50).reshape(1,-1)\n",
    "\n",
    "# print(cosine_similarity(getGloVe(\"man\"),getGloVe(\"ixix\"))[0][0])\n",
    "\n",
    "for talk in input_list:\n",
    "    if not talk:\n",
    "        bag_of_means.append(np.reshape(null_word,50).reshape(1,-1)[0])\n",
    "    else:\n",
    "        bag_of_means.append(np.mean(list(map(getGloVe,talk)),axis=0)[0])   \n",
    "\n",
    "# add bias term and convert to numpy array\n",
    "bag_of_means = np.array(bag_of_means)\n",
    "\n",
    "# Saving the objects:\n",
    "\n",
    "data= {'X': bag_of_means, 'Y': class_list_onehot}\n",
    "with open('objs.pickle', 'wb') as f:  # Python 3: open(..., 'wb')\n",
    "    pickle.dump(data, f)"
   ]
  },
  {
   "cell_type": "markdown",
   "metadata": {},
   "source": [
    "NB: Run the above only once (unless you wish to change the embeddings)!"
   ]
  },
  {
   "cell_type": "markdown",
   "metadata": {},
   "source": [
    "# Part 2 Build Neural Network"
   ]
  },
  {
   "cell_type": "markdown",
   "metadata": {},
   "source": [
    "### Part 2.0 Load & partition data"
   ]
  },
  {
   "cell_type": "code",
   "execution_count": 151,
   "metadata": {
    "collapsed": false
   },
   "outputs": [],
   "source": [
    "with open('objs.pickle', 'rb') as f:\n",
    "     data = pickle.load(f)\n",
    "        \n",
    "train_size = 1585\n",
    "validation_size = 250\n",
    "test_size   = 250\n",
    "\n",
    "# X = tf.convert_to_tensor(data['X'], dtype=tf.float32)\n",
    "# y = tf.convert_to_tensor(data['Y'], dtype=tf.float32)\n",
    "\n",
    "X = np.asarray(data['X'], dtype=np.float32)\n",
    "y = np.asarray(data['Y'], dtype=np.float32)\n",
    "\n",
    "x_train = X[:train_size]\n",
    "y_train = y[:train_size]\n",
    "\n",
    "x_valid = X[train_size:train_size+validation_size]\n",
    "y_valid = y[train_size:train_size+validation_size]\n",
    "\n",
    "x_test = X[train_size+validation_size:]\n",
    "y_test = y[train_size+validation_size:]\n",
    "\n",
    "# print(type(x_train))\n",
    "# print(y_train.shape)"
   ]
  },
  {
   "cell_type": "markdown",
   "metadata": {},
   "source": [
    "### Part 2.1 Build input pipeline"
   ]
  },
  {
   "cell_type": "code",
   "execution_count": 131,
   "metadata": {
    "collapsed": false
   },
   "outputs": [],
   "source": [
    "# Input Pipeline Parameters\n",
    "\n",
    "# BATCH_SIZE = 64\n",
    "# NUM_EPOCHS = 200\n",
    "# BATCHING_ITER = 100\n",
    "# N_CLASSES = 8\n",
    "# N_FEATURES = 50\n",
    "# CAP = 100\n",
    "# MINADEQ = 50"
   ]
  },
  {
   "cell_type": "code",
   "execution_count": 132,
   "metadata": {
    "collapsed": false
   },
   "outputs": [],
   "source": [
    "# # Create input queues:\n",
    "\n",
    "# def create_input_queue(X, Y, NUM_E):\n",
    "    \n",
    "#     x_queue, y_queue = tf.train.slice_input_producer(\n",
    "#                                         [X, Y],\n",
    "#                                         shuffle=False,\n",
    "#                                         num_epochs = None\n",
    "#     )\n",
    "\n",
    "#     # cast one_hot labels to integer\n",
    "#     y_queue = tf.cast(y_queue, tf.int32)\n",
    "#     return x_queue, y_queue\n",
    "    \n",
    "# print(\"Input pipeline ready\")"
   ]
  },
  {
   "cell_type": "markdown",
   "metadata": {},
   "source": [
    "### Part 2.2: Build NN Structure"
   ]
  },
  {
   "cell_type": "code",
   "execution_count": 133,
   "metadata": {
    "collapsed": false
   },
   "outputs": [],
   "source": [
    "# Network Parameters\n",
    "BATCH_SIZE = 64\n",
    "NUM_EPOCHS = 200\n",
    "BATCHING_ITER = 100\n",
    "N_CLASSES = 8\n",
    "N_FEATURES = 50\n",
    "LEARNING_RATE = 0.0001\n",
    "N_LAYERS = 3\n",
    "LAYER1_SIZE = 40\n",
    "LAYER2_SIZE = 30\n",
    "LAYER3_SIZE = 20\n",
    "N_INPUT = BATCH_SIZE\n",
    "OPTIMIZER_ADAM = 1\n",
    "\n",
    "# Network Placeholders\n",
    "\n",
    "x_ = tf.placeholder(tf.float32, [None, N_FEATURES])\n",
    "y_ = tf.placeholder(tf.float32, [None, N_CLASSES])"
   ]
  },
  {
   "cell_type": "code",
   "execution_count": 134,
   "metadata": {
    "collapsed": false
   },
   "outputs": [],
   "source": [
    "# Create weights and biases\n",
    "if N_LAYERS == 3:\n",
    "    weights = {\n",
    "\n",
    "        'h1': tf.Variable(tf.random_normal([N_FEATURES, LAYER1_SIZE])),\n",
    "        'h2': tf.Variable(tf.random_normal([LAYER1_SIZE, LAYER2_SIZE])),\n",
    "        'h3': tf.Variable(tf.random_normal([LAYER2_SIZE, LAYER3_SIZE])),\n",
    "        'out': tf.Variable(tf.random_normal([LAYER3_SIZE, N_CLASSES]))\n",
    "    }\n",
    "    biases = {\n",
    "        'b1': tf.Variable(tf.random_normal([LAYER1_SIZE])),\n",
    "        'b2': tf.Variable(tf.random_normal([LAYER2_SIZE])),\n",
    "        'b3': tf.Variable(tf.random_normal([LAYER3_SIZE])),\n",
    "        'out': tf.Variable(tf.random_normal([N_CLASSES]))\n",
    "    }\n",
    "elif N_LAYERS == 2:\n",
    "    weights = {\n",
    "\n",
    "        'h1': tf.Variable(tf.random_normal([N_FEATURES, LAYER1_SIZE])),\n",
    "        'h2': tf.Variable(tf.random_normal([LAYER1_SIZE, LAYER2_SIZE])),\n",
    "        'out': tf.Variable(tf.random_normal([LAYER2_SIZE, N_CLASSES]))\n",
    "    }\n",
    "    biases = {\n",
    "        'b1': tf.Variable(tf.random_normal([LAYER1_SIZE])),\n",
    "        'b2': tf.Variable(tf.random_normal([LAYER2_SIZE])),\n",
    "        'out': tf.Variable(tf.random_normal([N_CLASSES]))\n",
    "    }\n",
    "else:\n",
    "    weights = {\n",
    "\n",
    "        'h1': tf.Variable(tf.random_normal([N_FEATURES, LAYER1_SIZE])),\n",
    "        'out': tf.Variable(tf.random_normal([LAYER1_SIZE, N_CLASSES]))\n",
    "    }\n",
    "    biases = {\n",
    "        'b1': tf.Variable(tf.random_normal([LAYER1_SIZE])),\n",
    "        'out': tf.Variable(tf.random_normal([N_CLASSES]))\n",
    "    }"
   ]
  },
  {
   "cell_type": "code",
   "execution_count": 135,
   "metadata": {
    "collapsed": false
   },
   "outputs": [],
   "source": [
    "# Define NN structure\n",
    "\n",
    "# Use conditional to choose between train and validate data\n",
    "\n",
    "# layer 1\n",
    "Wx = tf.matmul(x_, weights['h1'])\n",
    "h = tf.nn.relu(tf.add(Wx, biases['b1']))\n",
    "\n",
    "# layer 2 (Optional): enable by setting N_LAYERS=2\n",
    "if N_LAYERS > 1:\n",
    "    Wx = tf.matmul(h, weights['h2'])\n",
    "    h = tf.nn.relu(tf.add(Wx, biases['b2']))\n",
    "    \n",
    "if N_LAYERS > 2:\n",
    "    Wx = tf.matmul(h, weights['h3'])\n",
    "    h = tf.nn.relu(tf.add(Wx, biases['b3']))\n",
    "    \n",
    "# output layer\n",
    "u = tf.matmul(h,weights['out']) + biases['out']"
   ]
  },
  {
   "cell_type": "code",
   "execution_count": 136,
   "metadata": {
    "collapsed": false
   },
   "outputs": [],
   "source": [
    "# Define NN Ops\n",
    "\n",
    "# create Op for loss\n",
    "cost = tf.reduce_mean(tf.nn.softmax_cross_entropy_with_logits(logits=u, labels=y_))\n",
    "\n",
    "# create Op for optimizer\n",
    "if OPTIMIZER_ADAM == 1:\n",
    "    optimizer = tf.train.AdamOptimizer(learning_rate=LEARNING_RATE).minimize(cost)\n",
    "else:\n",
    "    optimizer = tf.train.GradientDescentOptimizer(learning_rate=LEARNING_RATE).minimize(cost)\n",
    "\n",
    "# save predicted and true labels\n",
    "printTrueLabel = tf.argmax(y_, 1)\n",
    "printPredLabel = tf.argmax(u, 1)\n",
    "\n",
    "# create Op for accuracy\n",
    "correct_prediction = tf.equal(tf.argmax(u, 1), tf.argmax(y_, 1))\n",
    "accuracy = tf.reduce_mean(tf.cast(correct_prediction, \"float\"))\n",
    "\n",
    "# create Op to initialize all variables\n",
    "init_op = tf.group(tf.global_variables_initializer(),tf.local_variables_initializer())"
   ]
  },
  {
   "cell_type": "code",
   "execution_count": 137,
   "metadata": {
    "collapsed": false,
    "scrolled": false
   },
   "outputs": [
    {
     "name": "stdout",
     "output_type": "stream",
     "text": [
      "200\n"
     ]
    }
   ],
   "source": [
    "# Output Variables\n",
    "train_accuracy = []\n",
    "valid_accuracy = []\n",
    "y_out_pred = []\n",
    "y_out_true = []\n",
    "\n",
    "\n",
    "with tf.Session() as sess:\n",
    "    #initialize vairables and queue\n",
    "    sess.run(init_op)\n",
    "\n",
    "    for epoch in range(NUM_EPOCHS):\n",
    "        # shuffle training data\n",
    "        \n",
    "        for batch in range(BATCHING_ITER):\n",
    "            x_batch, y_batch = shuffle(x_train, y_train, n_samples=BATCH_SIZE, random_state=batch)\n",
    "            _, c = sess.run([optimizer, cost], feed_dict={x_: x_batch, y_: y_batch})\n",
    "        \n",
    "        # Evaluate accuracy at each epoch\n",
    "        train_accuracy.append(accuracy.eval({x_: x_train, y_: y_train}))\n",
    "        valid_accuracy.append(accuracy.eval({x_: x_valid, y_: y_valid}))\n",
    "    \n",
    "    V = sess.run(weights[\"out\"])\n",
    "    sess.close()\n",
    "print(len(train_accuracy))\n",
    "\n",
    "def runTest():\n",
    "    test_accuracy = accuracy.eval({x_: x_test, y_: y_test})\n",
    "    return test_accuracy"
   ]
  },
  {
   "cell_type": "code",
   "execution_count": 138,
   "metadata": {
    "collapsed": false
   },
   "outputs": [
    {
     "data": {
      "image/png": "[encoded data removed]",
      "text/plain": [
       "<matplotlib.figure.Figure at 0x12526c470>"
      ]
     },
     "metadata": {},
     "output_type": "display_data"
    }
   ],
   "source": [
    "# Stemming & Remove Stopwords\n",
    "t=list(range(0,NUM_EPOCHS))\n",
    "plt.plot(t, train_accuracy, 'r--',t,valid_accuracy, 'b--')\n",
    "plt.xlabel(\"epoch\")\n",
    "plt.ylabel(\"accuracy\")\n",
    "plt.legend([\"Training set\", \"Validation set\",\"Test set\"])\n",
    "plt.show()"
   ]
  },
  {
   "cell_type": "code",
   "execution_count": 129,
   "metadata": {
    "collapsed": false
   },
   "outputs": [
    {
     "data": {
      "image/png": "[encoded data removed]",
      "text/plain": [
       "<matplotlib.figure.Figure at 0x18f7c6b38>"
      ]
     },
     "metadata": {},
     "output_type": "display_data"
    }
   ],
   "source": [
    "## No Stemming ##\n",
    "t=list(range(0,NUM_EPOCHS))\n",
    "plt.plot(t, train_accuracy, 'r--',t,valid_accuracy, 'b--')\n",
    "plt.xlabel(\"epoch\")\n",
    "plt.ylabel(\"accuracy\")\n",
    "plt.legend([\"Training set\", \"Validation set\",\"Test set\"])\n",
    "plt.show()"
   ]
  },
  {
   "cell_type": "code",
   "execution_count": 90,
   "metadata": {
    "collapsed": false
   },
   "outputs": [
    {
     "data": {
      "image/png": "[encoded data removed]",
      "text/plain": [
       "<matplotlib.figure.Figure at 0x1253c8470>"
      ]
     },
     "metadata": {},
     "output_type": "display_data"
    }
   ],
   "source": [
    "from sklearn.decomposition import PCA\n",
    "import matplotlib.cm as cm\n",
    "\n",
    "\n",
    "pca = PCA(n_components=2)\n",
    "proj = pca.fit_transform(V.transpose())\n",
    "\n",
    "colors = cm.rainbow(np.linspace(0, 1, len(proj)))\n",
    "for y, c in zip(proj, colors):\n",
    "    plt.scatter(y[0], y[1], color=c)\n",
    "    \n",
    "plt.legend([0,1,2,3,4,5,6,7])\n",
    "plt.show()"
   ]
  },
  {
   "cell_type": "code",
   "execution_count": null,
   "metadata": {
    "collapsed": true
   },
   "outputs": [],
   "source": []
  }
 ],
 "metadata": {
  "anaconda-cloud": {},
  "kernelspec": {
   "display_name": "Python [conda root]",
   "language": "python",
   "name": "conda-root-py"
  },
  "language_info": {
   "codemirror_mode": {
    "name": "ipython",
    "version": 3
   },
   "file_extension": ".py",
   "mimetype": "text/x-python",
   "name": "python",
   "nbconvert_exporter": "python",
   "pygments_lexer": "ipython3",
   "version": "3.5.2"
  }
 },
 "nbformat": 4,
 "nbformat_minor": 1
}
